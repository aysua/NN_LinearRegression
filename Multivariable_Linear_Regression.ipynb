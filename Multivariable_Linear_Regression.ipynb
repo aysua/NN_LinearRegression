{
  "nbformat": 4,
  "nbformat_minor": 0,
  "metadata": {
    "colab": {
      "name": "Untitled1.ipynb",
      "provenance": [],
      "collapsed_sections": [],
      "authorship_tag": "ABX9TyMF0Pnx25NpvHNpIl07q9KB",
      "include_colab_link": true
    },
    "kernelspec": {
      "name": "python3",
      "display_name": "Python 3"
    },
    "accelerator": "GPU"
  },
  "cells": [
    {
      "cell_type": "markdown",
      "metadata": {
        "id": "view-in-github",
        "colab_type": "text"
      },
      "source": [
        "<a href=\"https://colab.research.google.com/github/aysua/NN_LinearRegression/blob/master/Multivariable_Linear_Regression.ipynb\" target=\"_parent\"><img src=\"https://colab.research.google.com/assets/colab-badge.svg\" alt=\"Open In Colab\"/></a>"
      ]
    },
    {
      "cell_type": "code",
      "metadata": {
        "id": "mZjInmrT_F-n",
        "colab_type": "code",
        "colab": {}
      },
      "source": [
        "import numpy as np\n",
        "import matplotlib.pyplot as plt"
      ],
      "execution_count": 0,
      "outputs": []
    },
    {
      "cell_type": "code",
      "metadata": {
        "id": "RARLeowLOxFo",
        "colab_type": "code",
        "outputId": "72817fdf-9dd7-4c43-f0a9-ba103cd35214",
        "colab": {
          "base_uri": "https://localhost:8080/",
          "height": 50
        }
      },
      "source": [
        "#My input and output sets\n",
        "my_input2=np.array([[0,0],[0,1],[1,0],[1,1]])\n",
        "my_output2=np.array([[0],[0],[0],[1]])\n",
        "my_input=np.array([[4.168263,\t4.00815,\t4.184075,\t3.82005,\t4.026175,\t4.13055,\t-1.03678,\t-0.05051,\t0.00945\t],[3.094213,\t3.9568,\t4.737988,\t4.110263,\t3.9967,\t3.272588,\t-0.8894,\t0.040193,\t0.033658],[3.06915,\t3.97195,\t4.737963,\t4.112288,\t3.9867,\t3.263313, -0.8932,\t0.271485,\t0.085156],[2.974425,\t3.752725,\t4.307638,\t4.10785,\t3.796013,\t2.968713,\t-1.93477,\t0.140581,\t0.13266],[2.620388,\t3.687063,\t4.738813,\t3.533275,\t3.8771,\t3.16435,\t-3.46142,\t0.812443,\t-0.02836]])\n",
        "my_output=np.array([[1265],[1215.34],[1153.31],[1155.29],[1145.249]])\n",
        "print(my_input[:][0])"
      ],
      "execution_count": 24,
      "outputs": [
        {
          "output_type": "stream",
          "text": [
            "[ 4.168263  4.00815   4.184075  3.82005   4.026175  4.13055  -1.03678\n",
            " -0.05051   0.00945 ]\n"
          ],
          "name": "stdout"
        }
      ]
    },
    {
      "cell_type": "code",
      "metadata": {
        "id": "rjT6unm1O8bv",
        "colab_type": "code",
        "colab": {}
      },
      "source": [
        "#All methods and initialization\n",
        "\n",
        "def init():\n",
        "  example_number=my_input.shape[0]\n",
        "  feature_number=my_input.shape[1]\n",
        "\n",
        "  z=np.array(np.zeros(example_number))\n",
        "  weights=np.random.rand(1,feature_number)\n",
        "  g_weights=weights.shape\n",
        "  bias=0;\n",
        "  g_bias=0;#np.zeros(shape=(example_number,1))\n",
        "  lr=0.005;\n",
        "  loss=0.01;\n",
        "  return z, weights, g_weights, bias, g_bias, lr, loss, example_number, feature_number\n",
        "\n",
        "\n",
        "def feedforward(x,bias,z,weights):\n",
        "  z=np.dot(x,np.transpose(weights))+bias\n",
        "  return z\n",
        "\n",
        "def backprop(example_number,x,y,z,weights, g_weights,lr,bias,g_bias,feature_number):\n",
        "  \n",
        "  g_weights=(1/example_number)*np.dot(np.transpose(z-y),x)\n",
        "  g_bias=(1/example_number)*np.sum((z-y))\n",
        "  weights=weights-lr*g_weights\n",
        "  #print('weights:',weights)\n",
        "  #print('g_weights',g_weights)\n",
        "  bias=bias-lr*g_bias\n",
        "  return weights, g_weights, bias, g_bias\n",
        "\n",
        "def lossfunction(loss, example_number,z,y):\n",
        "  loss=1/(2*example_number)*(np.power(np.sum(z-y),2))\n",
        "  return loss\n",
        "\n",
        "def predict(weights,x,bias):\n",
        "  result=np.dot(x,np.transpose(weights))+bias\n",
        "  return result\n"
      ],
      "execution_count": 0,
      "outputs": []
    },
    {
      "cell_type": "code",
      "metadata": {
        "id": "RFUlrSsWWGcW",
        "colab_type": "code",
        "outputId": "5eb1b1bf-8398-4828-9045-bdbdc9d6a58f",
        "colab": {
          "base_uri": "https://localhost:8080/",
          "height": 67
        }
      },
      "source": [
        "#Dummy variables\n",
        "iteration=5000;\n",
        "loss_array=[]\n",
        "\n",
        "#Train phase\n",
        "z, weights, g_weights, bias, g_bias, lr, loss,example_number,feature_number=init()\n",
        "\n",
        "while(iteration>=0):\n",
        "  z=feedforward(my_input,bias,z,weights)\n",
        "  loss=lossfunction(loss, example_number,z,my_output)\n",
        "  weights, g_weights, bias, g_bias=backprop(example_number,my_input,my_output,z,weights, g_weights,lr,bias,g_bias,feature_number)\n",
        "  iteration-=1\n",
        "  if(iteration%1000):\n",
        "    loss_array.append(loss)\n",
        "\n",
        "print(weights,bias)\n",
        "print(loss)"
      ],
      "execution_count": 112,
      "outputs": [
        {
          "output_type": "stream",
          "text": [
            "[[ 59.22237259  47.11572797  42.62813975  55.4838048   49.84908412\n",
            "   47.52809776 -26.61947072 -38.1384344   -3.65235998]] 13.350438464072592\n",
            "0.0005692340701030036\n"
          ],
          "name": "stdout"
        }
      ]
    },
    {
      "cell_type": "code",
      "metadata": {
        "id": "7I4wq4KlVbne",
        "colab_type": "code",
        "outputId": "e9724908-a6d0-413a-fd3a-8cbfe94d2306",
        "colab": {
          "base_uri": "https://localhost:8080/",
          "height": 377
        }
      },
      "source": [
        "#Prediction\n",
        "my_test_array=np.array([[1,1]])\n",
        "\n",
        "result=predict(weights,my_input,bias)\n",
        "print(result)\n",
        "plt.plot(loss_array)\n",
        "print(loss)\n"
      ],
      "execution_count": 113,
      "outputs": [
        {
          "output_type": "stream",
          "text": [
            "[[1265.87072317]\n",
            " [1189.84047556]\n",
            " [1179.33391356]\n",
            " [1153.84260161]\n",
            " [1145.22587889]]\n",
            "0.0005692340701030036\n"
          ],
          "name": "stdout"
        },
        {
          "output_type": "display_data",
          "data": {
            "image/png": "[encoded data removed]",
            "text/plain": [
              "<Figure size 432x288 with 1 Axes>"
            ]
          },
          "metadata": {
            "tags": []
          }
        }
      ]
    },
    {
      "cell_type": "code",
      "metadata": {
        "id": "PoJq2eJbXtN_",
        "colab_type": "code",
        "colab": {}
      },
      "source": [
        ""
      ],
      "execution_count": 0,
      "outputs": []
    }
  ]
}