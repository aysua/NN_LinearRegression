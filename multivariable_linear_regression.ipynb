{
  "nbformat": 4,
  "nbformat_minor": 0,
  "metadata": {
    "colab": {
      "name": "Untitled1.ipynb",
      "provenance": [],
      "collapsed_sections": [],
      "authorship_tag": "ABX9TyMhBikNnPjmPchf8Fz+0yJo",
      "include_colab_link": true
    },
    "kernelspec": {
      "name": "python3",
      "display_name": "Python 3"
    },
    "accelerator": "GPU"
  },
  "cells": [
    {
      "cell_type": "markdown",
      "metadata": {
        "id": "view-in-github",
        "colab_type": "text"
      },
      "source": [
        "<a href=\"https://colab.research.google.com/github/aysua/NN_LinearRegression/blob/master/multivariable_linear_regression.ipynb\" target=\"_parent\"><img src=\"https://colab.research.google.com/assets/colab-badge.svg\" alt=\"Open In Colab\"/></a>"
      ]
    },
    {
      "cell_type": "code",
      "metadata": {
        "id": "mZjInmrT_F-n",
        "colab_type": "code",
        "colab": {}
      },
      "source": [
        "import numpy as np\n",
        "import matplotlib.pyplot as plt"
      ],
      "execution_count": 0,
      "outputs": []
    },
    {
      "cell_type": "code",
      "metadata": {
        "id": "RARLeowLOxFo",
        "colab_type": "code",
        "colab": {}
      },
      "source": [
        "#My input and output sets\n",
        "my_input=np.array([[0,0],[0,1],[1,0],[1,1]])\n",
        "my_output=np.array([[0],[0],[0],[1]])"
      ],
      "execution_count": 0,
      "outputs": []
    },
    {
      "cell_type": "code",
      "metadata": {
        "id": "rjT6unm1O8bv",
        "colab_type": "code",
        "colab": {}
      },
      "source": [
        "#All methods and initialization\n",
        "\n",
        "def init():\n",
        "  example_number=my_input.shape[0]\n",
        "  feature_number=my_input.shape[1]\n",
        "\n",
        "  z=np.array(np.zeros(example_number))\n",
        "  weights=np.random.rand(1,feature_number)\n",
        "  g_weights=weights.shape\n",
        "  bias=0;\n",
        "  g_bias=np.zeros(shape=(example_number,1))\n",
        "  lr=0.5;\n",
        "  loss=0.001;\n",
        "  return z, weights, g_weights, bias, g_bias, lr, loss, example_number, feature_number\n",
        "\n",
        "def feedforward(x,bias,z,weights):\n",
        "  z=np.dot(x,np.transpose(weights))+bias\n",
        "  return z\n",
        "\n",
        "def backprop(example_number,x,y,z,weights, g_weights,lr,bias,g_bias):\n",
        "  g_weights=(1/example_number)*np.sum((z-y)*x)\n",
        "  g_bias=(1/example_number)*np.sum((z-y))\n",
        "  weights=weights-lr*g_weights\n",
        "  bias=bias-lr*g_bias\n",
        "  return weights, g_weights, bias, g_bias\n",
        "\n",
        "def lossfunction(loss, example_number,z,y):\n",
        "  loss=1/(2*example_number)*(np.power(np.sum(z-y),2))\n",
        "  return loss\n",
        "\n",
        "def predict(weights,x,bias):\n",
        "  result=np.dot(x,np.transpose(weights))+bias\n",
        "  return result\n"
      ],
      "execution_count": 0,
      "outputs": []
    },
    {
      "cell_type": "code",
      "metadata": {
        "id": "RFUlrSsWWGcW",
        "colab_type": "code",
        "outputId": "82cbd1a9-6ac6-410a-c1fc-6e0ecb59c8c3",
        "colab": {
          "base_uri": "https://localhost:8080/",
          "height": 52
        }
      },
      "source": [
        "#Dummy variables\n",
        "iteration=100;\n",
        "loss_array=[]\n",
        "\n",
        "#Train phase\n",
        "z, weights, g_weights, bias, g_bias, lr, loss,example_number,feature_number=init()\n",
        "\n",
        "while(iteration>=0):\n",
        "  z=feedforward(my_input,bias,z,weights)\n",
        "  loss=lossfunction(loss, example_number,z,my_output)\n",
        "  weights, g_weights, bias, g_bias=backprop(example_number,my_input,my_output,z,weights, g_weights,lr,bias,g_bias)\n",
        "  iteration-=1\n",
        "  if(iteration%10):\n",
        "    loss_array.append(loss)\n",
        "\n",
        "print(weights,bias)\n",
        "print(loss)"
      ],
      "execution_count": 0,
      "outputs": [
        {
          "output_type": "stream",
          "text": [
            "[[0.43305716 0.56693899]] -0.24999752955535948\n",
            "7.399392052324024e-13\n"
          ],
          "name": "stdout"
        }
      ]
    },
    {
      "cell_type": "code",
      "metadata": {
        "id": "7I4wq4KlVbne",
        "colab_type": "code",
        "outputId": "6016f1d9-5518-4951-bc18-6f534fff0ad7",
        "colab": {
          "base_uri": "https://localhost:8080/",
          "height": 354
        }
      },
      "source": [
        "#Prediction\n",
        "my_test_array=np.array([[1,1]])\n",
        "\n",
        "result=predict(weights,my_input,bias)\n",
        "print(result)\n",
        "plt.plot(loss_array)"
      ],
      "execution_count": 0,
      "outputs": [
        {
          "output_type": "stream",
          "text": [
            "[[-0.24999753]\n",
            " [ 0.31694146]\n",
            " [ 0.18305963]\n",
            " [ 0.74999861]]\n"
          ],
          "name": "stdout"
        },
        {
          "output_type": "execute_result",
          "data": {
            "text/plain": [
              "[<matplotlib.lines.Line2D at 0x7f5899a278d0>]"
            ]
          },
          "metadata": {
            "tags": []
          },
          "execution_count": 43
        },
        {
          "output_type": "display_data",
          "data": {
            "image/png": "[encoded data removed]",
            "text/plain": [
              "<Figure size 432x288 with 1 Axes>"
            ]
          },
          "metadata": {
            "tags": []
          }
        }
      ]
    },
    {
      "cell_type": "code",
      "metadata": {
        "id": "PoJq2eJbXtN_",
        "colab_type": "code",
        "colab": {}
      },
      "source": [
        ""
      ],
      "execution_count": 0,
      "outputs": []
    }
  ]
}